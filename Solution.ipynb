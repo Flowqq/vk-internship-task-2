{
 "cells": [
  {
   "cell_type": "code",
   "execution_count": 1,
   "id": "f8931c68",
   "metadata": {},
   "outputs": [
    {
     "data": {
      "text/plain": [
       "True"
      ]
     },
     "execution_count": 1,
     "metadata": {},
     "output_type": "execute_result"
    }
   ],
   "source": [
    "import torch\n",
    "torch.cuda.is_available()"
   ]
  },
  {
   "cell_type": "code",
   "execution_count": 13,
   "id": "74326f76",
   "metadata": {},
   "outputs": [],
   "source": [
    "import pandas as pd\n",
    "import numpy as np\n",
    "\n",
    "from sklearn.model_selection import train_test_split\n",
    "from sklearn.metrics import accuracy_score, roc_auc_score\n",
    "from sklearn.feature_extraction.text import CountVectorizer\n",
    "from sklearn.naive_bayes import BernoulliNB\n",
    "\n",
    "from datasets import Dataset, load_dataset\n",
    "\n",
    "\n",
    "import transformers\n",
    "from transformers import TrainingArguments, Trainer, AutoModelForSequenceClassification, AutoTokenizer\n",
    "\n",
    "from catboost import CatBoostClassifier"
   ]
  },
  {
   "cell_type": "code",
   "execution_count": 3,
   "id": "7d90128d",
   "metadata": {},
   "outputs": [],
   "source": [
    "train_df = pd.read_csv('train_spam.csv')\n",
    "test_df = pd.read_csv('test_spam.csv')"
   ]
  },
  {
   "cell_type": "code",
   "execution_count": 4,
   "id": "7c110edc-4406-4c67-808d-4a38e433c1dd",
   "metadata": {},
   "outputs": [
    {
     "data": {
      "text/plain": [
       "text_type\n",
       "ham     11469\n",
       "spam     4809\n",
       "Name: count, dtype: int64"
      ]
     },
     "execution_count": 4,
     "metadata": {},
     "output_type": "execute_result"
    }
   ],
   "source": [
    "train_df['text_type'].value_counts()"
   ]
  },
  {
   "cell_type": "code",
   "execution_count": 5,
   "id": "461dc499",
   "metadata": {},
   "outputs": [
    {
     "data": {
      "text/html": [
       "<div>\n",
       "<style scoped>\n",
       "    .dataframe tbody tr th:only-of-type {\n",
       "        vertical-align: middle;\n",
       "    }\n",
       "\n",
       "    .dataframe tbody tr th {\n",
       "        vertical-align: top;\n",
       "    }\n",
       "\n",
       "    .dataframe thead th {\n",
       "        text-align: right;\n",
       "    }\n",
       "</style>\n",
       "<table border=\"1\" class=\"dataframe\">\n",
       "  <thead>\n",
       "    <tr style=\"text-align: right;\">\n",
       "      <th></th>\n",
       "      <th>text_type</th>\n",
       "      <th>text</th>\n",
       "    </tr>\n",
       "  </thead>\n",
       "  <tbody>\n",
       "    <tr>\n",
       "      <th>0</th>\n",
       "      <td>ham</td>\n",
       "      <td>make sure alex knows his birthday is over in f...</td>\n",
       "    </tr>\n",
       "    <tr>\n",
       "      <th>1</th>\n",
       "      <td>ham</td>\n",
       "      <td>a resume for john lavorato thanks vince i will...</td>\n",
       "    </tr>\n",
       "    <tr>\n",
       "      <th>2</th>\n",
       "      <td>spam</td>\n",
       "      <td>plzz visit my website moviesgodml to get all m...</td>\n",
       "    </tr>\n",
       "    <tr>\n",
       "      <th>3</th>\n",
       "      <td>spam</td>\n",
       "      <td>urgent your mobile number has been awarded wit...</td>\n",
       "    </tr>\n",
       "    <tr>\n",
       "      <th>4</th>\n",
       "      <td>ham</td>\n",
       "      <td>overview of hr associates analyst project per ...</td>\n",
       "    </tr>\n",
       "    <tr>\n",
       "      <th>...</th>\n",
       "      <td>...</td>\n",
       "      <td>...</td>\n",
       "    </tr>\n",
       "    <tr>\n",
       "      <th>16273</th>\n",
       "      <td>spam</td>\n",
       "      <td>if you are interested in binary options tradin...</td>\n",
       "    </tr>\n",
       "    <tr>\n",
       "      <th>16274</th>\n",
       "      <td>spam</td>\n",
       "      <td>dirty pictureblyk on aircel thanks you for bei...</td>\n",
       "    </tr>\n",
       "    <tr>\n",
       "      <th>16275</th>\n",
       "      <td>ham</td>\n",
       "      <td>or you could do this g on mon 1635465 sep 1635...</td>\n",
       "    </tr>\n",
       "    <tr>\n",
       "      <th>16276</th>\n",
       "      <td>ham</td>\n",
       "      <td>insta reels par 80 गंद bhara pada hai 👀 kuch b...</td>\n",
       "    </tr>\n",
       "    <tr>\n",
       "      <th>16277</th>\n",
       "      <td>ham</td>\n",
       "      <td>alex s paper comments 1 in the sentence betwee...</td>\n",
       "    </tr>\n",
       "  </tbody>\n",
       "</table>\n",
       "<p>16278 rows × 2 columns</p>\n",
       "</div>"
      ],
      "text/plain": [
       "      text_type                                               text\n",
       "0           ham  make sure alex knows his birthday is over in f...\n",
       "1           ham  a resume for john lavorato thanks vince i will...\n",
       "2          spam  plzz visit my website moviesgodml to get all m...\n",
       "3          spam  urgent your mobile number has been awarded wit...\n",
       "4           ham  overview of hr associates analyst project per ...\n",
       "...         ...                                                ...\n",
       "16273      spam  if you are interested in binary options tradin...\n",
       "16274      spam  dirty pictureblyk on aircel thanks you for bei...\n",
       "16275       ham  or you could do this g on mon 1635465 sep 1635...\n",
       "16276       ham  insta reels par 80 गंद bhara pada hai 👀 kuch b...\n",
       "16277       ham  alex s paper comments 1 in the sentence betwee...\n",
       "\n",
       "[16278 rows x 2 columns]"
      ]
     },
     "execution_count": 5,
     "metadata": {},
     "output_type": "execute_result"
    }
   ],
   "source": [
    "train_df"
   ]
  },
  {
   "cell_type": "code",
   "execution_count": 6,
   "id": "41f1cb74-7bab-4497-8ff6-71a4d834d11f",
   "metadata": {},
   "outputs": [
    {
     "data": {
      "text/plain": [
       "0"
      ]
     },
     "execution_count": 6,
     "metadata": {},
     "output_type": "execute_result"
    }
   ],
   "source": [
    "train_df['text'].isna().sum()"
   ]
  },
  {
   "cell_type": "code",
   "execution_count": 7,
   "id": "4d14b24c-b9c1-486a-b16d-abf123e1b439",
   "metadata": {},
   "outputs": [
    {
     "data": {
      "text/plain": [
       "0"
      ]
     },
     "execution_count": 7,
     "metadata": {},
     "output_type": "execute_result"
    }
   ],
   "source": [
    "test_df['text'].isna().sum()"
   ]
  },
  {
   "cell_type": "code",
   "execution_count": 8,
   "id": "ea152419",
   "metadata": {},
   "outputs": [],
   "source": [
    "train_df['label'] = train_df['text_type'].map({'spam' : 1, 'ham' : 0})"
   ]
  },
  {
   "cell_type": "code",
   "execution_count": 10,
   "id": "92458dfe",
   "metadata": {},
   "outputs": [],
   "source": [
    "train_df[['text', 'label']].to_csv('train_spam_labeled.csv', index=False)"
   ]
  },
  {
   "cell_type": "code",
   "execution_count": null,
   "id": "a4d8bd1f-2e5b-45e9-a4af-cdfcbde6f27d",
   "metadata": {},
   "outputs": [],
   "source": []
  },
  {
   "cell_type": "code",
   "execution_count": null,
   "id": "32a1167a-d076-4c4e-b900-707b92d6ce64",
   "metadata": {},
   "outputs": [],
   "source": []
  },
  {
   "cell_type": "markdown",
   "id": "c50c4a9b-6a7c-48d5-a61d-0422d0eeca0c",
   "metadata": {},
   "source": [
    "# Предсказание только нулей"
   ]
  },
  {
   "cell_type": "code",
   "execution_count": 11,
   "id": "03ed0278-27b6-49d9-a493-aeaefbe24b50",
   "metadata": {},
   "outputs": [],
   "source": [
    "train_df = pd.read_csv('train_spam_labeled.csv')"
   ]
  },
  {
   "cell_type": "code",
   "execution_count": 12,
   "id": "3832c7bd-abf3-44ec-8bed-3d8886e56272",
   "metadata": {},
   "outputs": [
    {
     "name": "stdout",
     "output_type": "stream",
     "text": [
      "Accuracy: 0.7045705860670844\n",
      "ROC-AUC: 0.5\n"
     ]
    }
   ],
   "source": [
    "print('Accuracy: {}'.format(accuracy_score(train_df['label'], [0]*train_df.shape[0])))\n",
    "print('ROC-AUC: {}'.format(roc_auc_score(train_df['label'], [0]*train_df.shape[0])))"
   ]
  },
  {
   "cell_type": "code",
   "execution_count": null,
   "id": "1baf471f-8c8d-4a7a-9b4e-7319d262d6e9",
   "metadata": {},
   "outputs": [],
   "source": []
  },
  {
   "cell_type": "markdown",
   "id": "f44381da-bed9-4ad3-b108-aed089023c23",
   "metadata": {},
   "source": [
    "# Наивный байесовский классификатор"
   ]
  },
  {
   "cell_type": "code",
   "execution_count": 32,
   "id": "30ae0df2-de32-41d5-94b7-c7a0357713d4",
   "metadata": {},
   "outputs": [],
   "source": [
    "train_df = pd.read_csv('train_spam_labeled.csv')"
   ]
  },
  {
   "cell_type": "code",
   "execution_count": 33,
   "id": "96646b1a-3882-427c-9350-659ecbdece55",
   "metadata": {},
   "outputs": [],
   "source": [
    "X = np.array(train_df['text'])\n",
    "y = np.array(train_df['label'])\n",
    "\n",
    "cv = CountVectorizer()\n",
    "X = cv.fit_transform(X)\n",
    "X_train, X_val, y_train, y_val = train_test_split(X, y, \n",
    "                                                test_size=0.2, \n",
    "                                                random_state=42)\n",
    "\n",
    "model = BernoulliNB()\n",
    "model.fit(X_train, y_train)\n",
    "preds = model.predict(X_val)\n",
    "preds_train = model.predict(X_train)"
   ]
  },
  {
   "cell_type": "code",
   "execution_count": 34,
   "id": "e8152007-6965-4b40-be5e-48e1526230a2",
   "metadata": {},
   "outputs": [
    {
     "name": "stdout",
     "output_type": "stream",
     "text": [
      "Accuracy train: 0.959299646751651\n",
      "ROC-AUC train: 0.969308190031278\n",
      "\n",
      "Accuracy val: 0.9333538083538083\n",
      "ROC-AUC val: 0.9401154401154401\n"
     ]
    }
   ],
   "source": [
    "print('Accuracy train: {}'.format(accuracy_score(preds_train, y_train)))\n",
    "print('ROC-AUC train: {}'.format(roc_auc_score(preds_train, y_train)))\n",
    "\n",
    "print('\\nAccuracy val: {}'.format(accuracy_score(preds, y_val)))\n",
    "print('ROC-AUC val: {}'.format(roc_auc_score(preds, y_val)))"
   ]
  },
  {
   "cell_type": "code",
   "execution_count": null,
   "id": "c061ca86-97b9-4af2-8bb8-d22763b9e4e5",
   "metadata": {},
   "outputs": [],
   "source": []
  },
  {
   "cell_type": "markdown",
   "id": "9e662e8f-d5e0-4548-8372-9c704323d1d9",
   "metadata": {},
   "source": [
    " # CatBoost text_features"
   ]
  },
  {
   "cell_type": "code",
   "execution_count": 73,
   "id": "10e25ae8-3ee3-4f62-827a-2b5a6e59becc",
   "metadata": {},
   "outputs": [],
   "source": [
    "train_df = pd.read_csv('train_spam_labeled.csv')"
   ]
  },
  {
   "cell_type": "code",
   "execution_count": 74,
   "id": "f07cccd1-0176-45b1-ac1e-79cb0e9066d6",
   "metadata": {},
   "outputs": [],
   "source": [
    "X_train, X_val, y_train, y_val = train_test_split(train_df['text'], train_df['label'], test_size=0.25)"
   ]
  },
  {
   "cell_type": "code",
   "execution_count": 75,
   "id": "cd4c1157-c269-48d0-a7df-f721f8093570",
   "metadata": {},
   "outputs": [],
   "source": [
    "X_train = pd.DataFrame(X_train)\n",
    "X_val = pd.DataFrame(X_val)"
   ]
  },
  {
   "cell_type": "code",
   "execution_count": 88,
   "id": "c31bfe00-adcc-40a2-9b97-8b1299fb1e0a",
   "metadata": {},
   "outputs": [],
   "source": [
    "classifier = CatBoostClassifier(\n",
    "    iterations=1000,\n",
    "    depth=6\n",
    ")"
   ]
  },
  {
   "cell_type": "code",
   "execution_count": 92,
   "id": "167b71ad-38a4-4128-bdbb-c43189569330",
   "metadata": {
    "scrolled": true
   },
   "outputs": [
    {
     "name": "stdout",
     "output_type": "stream",
     "text": [
      "Learning rate set to 0.029987\n",
      "0:\tlearn: 0.6586587\ttotal: 34.5ms\tremaining: 34.4s\n",
      "100:\tlearn: 0.1598501\ttotal: 4.76s\tremaining: 42.4s\n",
      "200:\tlearn: 0.1433659\ttotal: 9.11s\tremaining: 36.2s\n",
      "300:\tlearn: 0.1340389\ttotal: 13.4s\tremaining: 31.2s\n",
      "400:\tlearn: 0.1244669\ttotal: 17.7s\tremaining: 26.4s\n",
      "500:\tlearn: 0.1164736\ttotal: 22.1s\tremaining: 22s\n",
      "600:\tlearn: 0.1099377\ttotal: 26.4s\tremaining: 17.5s\n",
      "700:\tlearn: 0.1041181\ttotal: 30.8s\tremaining: 13.1s\n",
      "800:\tlearn: 0.0991969\ttotal: 35.2s\tremaining: 8.74s\n",
      "900:\tlearn: 0.0951632\ttotal: 39.7s\tremaining: 4.37s\n",
      "999:\tlearn: 0.0915061\ttotal: 44.1s\tremaining: 0us\n"
     ]
    },
    {
     "data": {
      "text/plain": [
       "<catboost.core.CatBoostClassifier at 0x20f03070400>"
      ]
     },
     "execution_count": 92,
     "metadata": {},
     "output_type": "execute_result"
    }
   ],
   "source": [
    "classifier.fit(pd.DataFrame(X_train), y_train, text_features=['text'], verbose=100)"
   ]
  },
  {
   "cell_type": "code",
   "execution_count": 93,
   "id": "b994813b-a9bc-42a4-856b-1c581dcf45f3",
   "metadata": {},
   "outputs": [],
   "source": [
    "preds = classifier.predict(X_val)\n",
    "preds_train = classifier.predict(X_train)"
   ]
  },
  {
   "cell_type": "code",
   "execution_count": 94,
   "id": "e3470529-7821-464e-8987-509a2feb36c1",
   "metadata": {},
   "outputs": [
    {
     "name": "stdout",
     "output_type": "stream",
     "text": [
      "Accuracy train: 0.9810779816513762\n",
      "ROC-AUC train: 0.9809947081195941\n",
      "\n",
      "Accuracy val: 0.957985257985258\n",
      "ROC-AUC val: 0.9561640588245331\n"
     ]
    }
   ],
   "source": [
    "print('Accuracy train: {}'.format(accuracy_score(preds_train, y_train)))\n",
    "print('ROC-AUC train: {}'.format(roc_auc_score(preds_train, y_train)))\n",
    "\n",
    "print('\\nAccuracy val: {}'.format(accuracy_score(preds, y_val)))\n",
    "print('ROC-AUC val: {}'.format(roc_auc_score(preds, y_val)))"
   ]
  },
  {
   "cell_type": "code",
   "execution_count": null,
   "id": "111b925e-d9b5-4c89-91b0-bf16a42219c3",
   "metadata": {},
   "outputs": [],
   "source": []
  },
  {
   "cell_type": "markdown",
   "id": "2faad63c-ec31-4cd2-a8e9-2b0114f56d91",
   "metadata": {},
   "source": [
    " # Distilbert"
   ]
  },
  {
   "cell_type": "code",
   "execution_count": 50,
   "id": "84eef2f9",
   "metadata": {},
   "outputs": [
    {
     "data": {
      "application/vnd.jupyter.widget-view+json": {
       "model_id": "4208c4ec61f548a08bc1232b6773a05d",
       "version_major": 2,
       "version_minor": 0
      },
      "text/plain": [
       "Generating train split: 0 examples [00:00, ? examples/s]"
      ]
     },
     "metadata": {},
     "output_type": "display_data"
    }
   ],
   "source": [
    "raw_dataset = load_dataset('csv', data_files='train_spam_labeled.csv', column_names=['text', 'labels'], skiprows=1)"
   ]
  },
  {
   "cell_type": "code",
   "execution_count": 51,
   "id": "cbd83c94",
   "metadata": {},
   "outputs": [],
   "source": [
    "dataset = raw_dataset['train'].train_test_split(test_size=0.2)"
   ]
  },
  {
   "cell_type": "code",
   "execution_count": 52,
   "id": "7f3865b8",
   "metadata": {},
   "outputs": [
    {
     "data": {
      "text/plain": [
       "(13022, 3256)"
      ]
     },
     "execution_count": 52,
     "metadata": {},
     "output_type": "execute_result"
    }
   ],
   "source": [
    "len(dataset['train']), len(dataset['test'])"
   ]
  },
  {
   "cell_type": "code",
   "execution_count": 53,
   "id": "922a6cd8",
   "metadata": {},
   "outputs": [],
   "source": [
    "checkpoint = 'distilbert-base-uncased'\n",
    "tokenizer = AutoTokenizer.from_pretrained(checkpoint)"
   ]
  },
  {
   "cell_type": "code",
   "execution_count": 54,
   "id": "5be96421",
   "metadata": {},
   "outputs": [
    {
     "data": {
      "application/vnd.jupyter.widget-view+json": {
       "model_id": "6a8962a4901e46329397941283fd1c77",
       "version_major": 2,
       "version_minor": 0
      },
      "text/plain": [
       "Map:   0%|          | 0/13022 [00:00<?, ? examples/s]"
      ]
     },
     "metadata": {},
     "output_type": "display_data"
    },
    {
     "data": {
      "application/vnd.jupyter.widget-view+json": {
       "model_id": "4242c35e40cd4b008053eeac9ab5e4fc",
       "version_major": 2,
       "version_minor": 0
      },
      "text/plain": [
       "Map:   0%|          | 0/3256 [00:00<?, ? examples/s]"
      ]
     },
     "metadata": {},
     "output_type": "display_data"
    }
   ],
   "source": [
    "train_tok = dataset['train'].map(lambda x: tokenizer(x['text'], truncation=True, padding='max_length', max_length=512), batched=True)\n",
    "test_tok = dataset['test'].map(lambda x: tokenizer(x['text'], truncation=True, padding='max_length', max_length=512), batched=True)"
   ]
  },
  {
   "cell_type": "code",
   "execution_count": 55,
   "id": "ae30698f",
   "metadata": {},
   "outputs": [],
   "source": [
    "train_tok.set_format(type='torch', columns=['input_ids', 'attention_mask', 'labels'])\n",
    "test_tok.set_format(type='torch', columns=['input_ids', 'attention_mask', 'labels'])"
   ]
  },
  {
   "cell_type": "code",
   "execution_count": 56,
   "id": "b22ec9eb",
   "metadata": {},
   "outputs": [],
   "source": [
    "# model = AutoModelForSequenceClassification.from_pretrained('model1')\n",
    "model = AutoModelForSequenceClassification.from_pretrained(checkpoint, num_labels=2)"
   ]
  },
  {
   "cell_type": "code",
   "execution_count": 57,
   "id": "ae9799b8",
   "metadata": {},
   "outputs": [],
   "source": [
    "model.to('cuda');"
   ]
  },
  {
   "cell_type": "code",
   "execution_count": 58,
   "id": "90278e9c",
   "metadata": {},
   "outputs": [
    {
     "name": "stderr",
     "output_type": "stream",
     "text": [
      "C:\\Users\\hd\\anaconda3\\envs\\autoenv\\lib\\site-packages\\accelerate\\accelerator.py:436: FutureWarning: Passing the following arguments to `Accelerator` is deprecated and will be removed in version 1.0 of Accelerate: dict_keys(['dispatch_batches', 'split_batches', 'even_batches', 'use_seedable_sampler']). Please pass an `accelerate.DataLoaderConfiguration` instead: \n",
      "dataloader_config = DataLoaderConfiguration(dispatch_batches=None, split_batches=False, even_batches=True, use_seedable_sampler=True)\n",
      "  warnings.warn(\n"
     ]
    }
   ],
   "source": [
    "training_args = TrainingArguments(\n",
    "    'test-trainer',\n",
    "    per_device_train_batch_size = 16,\n",
    "    per_device_eval_batch_size = 16,\n",
    "    num_train_epochs = 5,\n",
    "    learning_rate=2e-5,\n",
    "    weight_decay = 0.01\n",
    ")\n",
    "\n",
    "trainer = Trainer(\n",
    "    model,\n",
    "    training_args,\n",
    "    train_dataset = train_tok,\n",
    "    eval_dataset = test_tok,\n",
    "    tokenizer = tokenizer\n",
    ")"
   ]
  },
  {
   "cell_type": "code",
   "execution_count": 18,
   "id": "e0013c6a",
   "metadata": {},
   "outputs": [
    {
     "data": {
      "text/html": [
       "\n",
       "    <div>\n",
       "      \n",
       "      <progress value='4070' max='4070' style='width:300px; height:20px; vertical-align: middle;'></progress>\n",
       "      [4070/4070 3:18:50, Epoch 5/5]\n",
       "    </div>\n",
       "    <table border=\"1\" class=\"dataframe\">\n",
       "  <thead>\n",
       " <tr style=\"text-align: left;\">\n",
       "      <th>Step</th>\n",
       "      <th>Training Loss</th>\n",
       "    </tr>\n",
       "  </thead>\n",
       "  <tbody>\n",
       "    <tr>\n",
       "      <td>500</td>\n",
       "      <td>0.189100</td>\n",
       "    </tr>\n",
       "    <tr>\n",
       "      <td>1000</td>\n",
       "      <td>0.097700</td>\n",
       "    </tr>\n",
       "    <tr>\n",
       "      <td>1500</td>\n",
       "      <td>0.059400</td>\n",
       "    </tr>\n",
       "    <tr>\n",
       "      <td>2000</td>\n",
       "      <td>0.034700</td>\n",
       "    </tr>\n",
       "    <tr>\n",
       "      <td>2500</td>\n",
       "      <td>0.021100</td>\n",
       "    </tr>\n",
       "    <tr>\n",
       "      <td>3000</td>\n",
       "      <td>0.013500</td>\n",
       "    </tr>\n",
       "    <tr>\n",
       "      <td>3500</td>\n",
       "      <td>0.005000</td>\n",
       "    </tr>\n",
       "    <tr>\n",
       "      <td>4000</td>\n",
       "      <td>0.003500</td>\n",
       "    </tr>\n",
       "  </tbody>\n",
       "</table><p>"
      ],
      "text/plain": [
       "<IPython.core.display.HTML object>"
      ]
     },
     "metadata": {},
     "output_type": "display_data"
    },
    {
     "name": "stderr",
     "output_type": "stream",
     "text": [
      "Checkpoint destination directory test-trainer\\checkpoint-500 already exists and is non-empty. Saving will proceed but saved results may be invalid.\n",
      "Checkpoint destination directory test-trainer\\checkpoint-1000 already exists and is non-empty. Saving will proceed but saved results may be invalid.\n"
     ]
    },
    {
     "data": {
      "text/plain": [
       "TrainOutput(global_step=4070, training_loss=0.05229256150177714, metrics={'train_runtime': 11932.6118, 'train_samples_per_second': 5.456, 'train_steps_per_second': 0.341, 'total_flos': 8624952326492160.0, 'train_loss': 0.05229256150177714, 'epoch': 5.0})"
      ]
     },
     "execution_count": 18,
     "metadata": {},
     "output_type": "execute_result"
    }
   ],
   "source": [
    "trainer.train()"
   ]
  },
  {
   "cell_type": "code",
   "execution_count": 19,
   "id": "e5824341",
   "metadata": {},
   "outputs": [],
   "source": [
    "trainer.save_model('model1')"
   ]
  },
  {
   "cell_type": "code",
   "execution_count": 59,
   "id": "a5b5f05c-a3bd-446d-b95a-a09c19898914",
   "metadata": {},
   "outputs": [
    {
     "data": {
      "text/html": [],
      "text/plain": [
       "<IPython.core.display.HTML object>"
      ]
     },
     "metadata": {},
     "output_type": "display_data"
    }
   ],
   "source": [
    "predictions = trainer.predict(test_tok)\n",
    "preds = np.argmax(predictions.predictions, axis=-1)"
   ]
  },
  {
   "cell_type": "code",
   "execution_count": 60,
   "id": "1f5b018b-f98f-43c0-bc57-d2903e4df090",
   "metadata": {},
   "outputs": [
    {
     "data": {
      "text/html": [],
      "text/plain": [
       "<IPython.core.display.HTML object>"
      ]
     },
     "metadata": {},
     "output_type": "display_data"
    }
   ],
   "source": [
    "predictions_train = trainer.predict(train_tok)\n",
    "preds_train = np.argmax(predictions_train.predictions, axis=-1)"
   ]
  },
  {
   "cell_type": "code",
   "execution_count": 62,
   "id": "af5af6e1-5ffd-4fc1-89f5-99b1140f435c",
   "metadata": {},
   "outputs": [
    {
     "name": "stdout",
     "output_type": "stream",
     "text": [
      "Accuracy train: 0.9939333435724159\n",
      "ROC-AUC train: 0.9936336634597254\n",
      "\n",
      "Accuracy val: 0.9938574938574939\n",
      "ROC-AUC val: 0.9935458776058693\n"
     ]
    }
   ],
   "source": [
    "print('Accuracy train: {}'.format(accuracy_score(preds_train, train_tok['labels'])))\n",
    "print('ROC-AUC train: {}'.format(roc_auc_score(preds_train, train_tok['labels'])))\n",
    "print('\\nAccuracy val: {}'.format(accuracy_score(preds, test_tok['labels'])))\n",
    "print('ROC-AUC val: {}'.format(roc_auc_score(preds, test_tok['labels'])))"
   ]
  },
  {
   "cell_type": "code",
   "execution_count": null,
   "id": "b82877ba-63ff-40b7-9ca1-270288afdae9",
   "metadata": {},
   "outputs": [],
   "source": []
  },
  {
   "cell_type": "markdown",
   "id": "1f82f5b3-d524-4a05-ae14-08a17d5e183f",
   "metadata": {},
   "source": [
    "Distilbert показал наибольший ROC-AUC на валидационной выборке, так что для скоринга тестовой выборки применим его, хотя при обучении и на инфересне трансформерная модель работает гораздо дольше чем остальные кондидаты."
   ]
  },
  {
   "cell_type": "code",
   "execution_count": 63,
   "id": "d415489d-4401-4aeb-a529-85ee42acce64",
   "metadata": {},
   "outputs": [],
   "source": [
    "checkpoint = 'distilbert-base-uncased'\n",
    "tokenizer = AutoTokenizer.from_pretrained(checkpoint)"
   ]
  },
  {
   "cell_type": "code",
   "execution_count": 64,
   "id": "c57ee2e0-1708-4845-a6a2-ac1c1bc428b1",
   "metadata": {},
   "outputs": [
    {
     "name": "stderr",
     "output_type": "stream",
     "text": [
      "C:\\Users\\hd\\anaconda3\\envs\\autoenv\\lib\\site-packages\\accelerate\\accelerator.py:436: FutureWarning: Passing the following arguments to `Accelerator` is deprecated and will be removed in version 1.0 of Accelerate: dict_keys(['dispatch_batches', 'split_batches', 'even_batches', 'use_seedable_sampler']). Please pass an `accelerate.DataLoaderConfiguration` instead: \n",
      "dataloader_config = DataLoaderConfiguration(dispatch_batches=None, split_batches=False, even_batches=True, use_seedable_sampler=True)\n",
      "  warnings.warn(\n"
     ]
    }
   ],
   "source": [
    "model = AutoModelForSequenceClassification.from_pretrained('model1');\n",
    "trainer = Trainer(\n",
    "    model,\n",
    "    tokenizer = tokenizer\n",
    ");"
   ]
  },
  {
   "cell_type": "code",
   "execution_count": 65,
   "id": "de9ef575-91b4-407a-93ea-8222779a166f",
   "metadata": {},
   "outputs": [],
   "source": [
    "raw_dataset = load_dataset('csv', data_files='test_spam.csv', column_names=['text'], skiprows=1)"
   ]
  },
  {
   "cell_type": "code",
   "execution_count": 66,
   "id": "cb71a41e-62c9-49a3-bb36-4e9a73f28005",
   "metadata": {},
   "outputs": [],
   "source": [
    "set_tok = raw_dataset['train'].map(lambda x: tokenizer(x['text'], truncation=True, padding='max_length', max_length=512), batched=True)"
   ]
  },
  {
   "cell_type": "code",
   "execution_count": 67,
   "id": "74f2d802-115f-4a52-b138-fe74e496fff2",
   "metadata": {},
   "outputs": [],
   "source": [
    "set_tok.set_format(type='torch', columns=['input_ids', 'attention_mask'])"
   ]
  },
  {
   "cell_type": "code",
   "execution_count": 68,
   "id": "76d1ccdc-edb0-4e20-a77f-ccbe20101971",
   "metadata": {},
   "outputs": [
    {
     "data": {
      "text/html": [],
      "text/plain": [
       "<IPython.core.display.HTML object>"
      ]
     },
     "metadata": {},
     "output_type": "display_data"
    }
   ],
   "source": [
    "test_preds = trainer.predict(set_tok)\n",
    "test_preds = np.argmax(test_preds.predictions, axis=-1)"
   ]
  },
  {
   "cell_type": "code",
   "execution_count": 69,
   "id": "2f6198c8-0927-43a7-8bb7-9f814e73a708",
   "metadata": {},
   "outputs": [],
   "source": [
    "test_df['score'] = test_preds"
   ]
  },
  {
   "cell_type": "code",
   "execution_count": 70,
   "id": "8ec0a6bb-d67a-4ff9-b34a-6f2e7e4087ff",
   "metadata": {},
   "outputs": [],
   "source": [
    "test_df['score'] = test_df['score'].map({1 : 'spam', 0 : 'ham'})"
   ]
  },
  {
   "cell_type": "code",
   "execution_count": 71,
   "id": "7e512ac9-4bc4-4f4b-a07d-b0dfc3eb25fc",
   "metadata": {},
   "outputs": [
    {
     "data": {
      "text/html": [
       "<div>\n",
       "<style scoped>\n",
       "    .dataframe tbody tr th:only-of-type {\n",
       "        vertical-align: middle;\n",
       "    }\n",
       "\n",
       "    .dataframe tbody tr th {\n",
       "        vertical-align: top;\n",
       "    }\n",
       "\n",
       "    .dataframe thead th {\n",
       "        text-align: right;\n",
       "    }\n",
       "</style>\n",
       "<table border=\"1\" class=\"dataframe\">\n",
       "  <thead>\n",
       "    <tr style=\"text-align: right;\">\n",
       "      <th></th>\n",
       "      <th>text</th>\n",
       "      <th>score</th>\n",
       "    </tr>\n",
       "  </thead>\n",
       "  <tbody>\n",
       "    <tr>\n",
       "      <th>0</th>\n",
       "      <td>j jim whitehead ejw cse ucsc edu writes j you ...</td>\n",
       "      <td>ham</td>\n",
       "    </tr>\n",
       "    <tr>\n",
       "      <th>1</th>\n",
       "      <td>original message from bitbitch magnesium net p...</td>\n",
       "      <td>ham</td>\n",
       "    </tr>\n",
       "    <tr>\n",
       "      <th>2</th>\n",
       "      <td>java for managers vince durasoft who just taug...</td>\n",
       "      <td>ham</td>\n",
       "    </tr>\n",
       "    <tr>\n",
       "      <th>3</th>\n",
       "      <td>there is a youtuber name saiman says</td>\n",
       "      <td>ham</td>\n",
       "    </tr>\n",
       "    <tr>\n",
       "      <th>4</th>\n",
       "      <td>underpriced issue with high return on equity t...</td>\n",
       "      <td>spam</td>\n",
       "    </tr>\n",
       "    <tr>\n",
       "      <th>...</th>\n",
       "      <td>...</td>\n",
       "      <td>...</td>\n",
       "    </tr>\n",
       "    <tr>\n",
       "      <th>4065</th>\n",
       "      <td>husband to wifetum meri zindagi hoorwifeor kya...</td>\n",
       "      <td>ham</td>\n",
       "    </tr>\n",
       "    <tr>\n",
       "      <th>4066</th>\n",
       "      <td>baylor enron case study cindy yes i shall co a...</td>\n",
       "      <td>ham</td>\n",
       "    </tr>\n",
       "    <tr>\n",
       "      <th>4067</th>\n",
       "      <td>boring as compared to tp</td>\n",
       "      <td>ham</td>\n",
       "    </tr>\n",
       "    <tr>\n",
       "      <th>4068</th>\n",
       "      <td>hellogorgeous hows u my fone was on charge lst...</td>\n",
       "      <td>ham</td>\n",
       "    </tr>\n",
       "    <tr>\n",
       "      <th>4069</th>\n",
       "      <td>energy conference mark we are really swamped a...</td>\n",
       "      <td>ham</td>\n",
       "    </tr>\n",
       "  </tbody>\n",
       "</table>\n",
       "<p>4070 rows × 2 columns</p>\n",
       "</div>"
      ],
      "text/plain": [
       "                                                   text score\n",
       "0     j jim whitehead ejw cse ucsc edu writes j you ...   ham\n",
       "1     original message from bitbitch magnesium net p...   ham\n",
       "2     java for managers vince durasoft who just taug...   ham\n",
       "3                  there is a youtuber name saiman says   ham\n",
       "4     underpriced issue with high return on equity t...  spam\n",
       "...                                                 ...   ...\n",
       "4065  husband to wifetum meri zindagi hoorwifeor kya...   ham\n",
       "4066  baylor enron case study cindy yes i shall co a...   ham\n",
       "4067                           boring as compared to tp   ham\n",
       "4068  hellogorgeous hows u my fone was on charge lst...   ham\n",
       "4069  energy conference mark we are really swamped a...   ham\n",
       "\n",
       "[4070 rows x 2 columns]"
      ]
     },
     "execution_count": 71,
     "metadata": {},
     "output_type": "execute_result"
    }
   ],
   "source": [
    "test_df"
   ]
  },
  {
   "cell_type": "code",
   "execution_count": 72,
   "id": "76a5ea76-b1c8-4d64-93c5-61f07868eeb9",
   "metadata": {},
   "outputs": [],
   "source": [
    "test_df[['score', 'text']].to_csv('test_scores.csv', index=False)"
   ]
  },
  {
   "cell_type": "code",
   "execution_count": null,
   "id": "e3e2fd06-db65-4bc4-8f9a-cce1e0bdb2e3",
   "metadata": {},
   "outputs": [],
   "source": []
  }
 ],
 "metadata": {
  "kernelspec": {
   "display_name": "Python 3 (ipykernel)",
   "language": "python",
   "name": "python3"
  },
  "language_info": {
   "codemirror_mode": {
    "name": "ipython",
    "version": 3
   },
   "file_extension": ".py",
   "mimetype": "text/x-python",
   "name": "python",
   "nbconvert_exporter": "python",
   "pygments_lexer": "ipython3",
   "version": "3.9.19"
  }
 },
 "nbformat": 4,
 "nbformat_minor": 5
}
